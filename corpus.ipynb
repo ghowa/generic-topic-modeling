{
 "cells": [
  {
   "cell_type": "markdown",
   "metadata": {
    "collapsed": true,
    "extensions": {
     "jupyter_dashboards": {
      "version": 1,
      "views": {
       "grid_default": {
        "col": 0,
        "height": 5,
        "hidden": false,
        "row": 0,
        "width": 12
       },
       "report_default": {
        "hidden": false
       }
      }
     }
    },
    "slideshow": {
     "slide_type": "-"
    }
   },
   "source": [
    "# Russian Authors on the Internet<a id='top'></a>\n",
    "\n",
    "This page allows you to browse through the topic model I created based on a corpus of 37 blogs and profiles in social media, written by 31 different Russian authors. For more details, see chapter 2 of my thesis. The scripts and data used here are the sames I used to create the plots in my thesis.\n",
    "\n",
    "Scroll down to see the plots or use these links:\n",
    "\n",
    "* [Estimate number of clusters](#clusters)\n",
    "* [Corpus map](#map)\n",
    "* [Topic intensity](#topic_bubbles)\n",
    "* [Print topics](#print_topics)\n",
    "* [Development of topics over time](#stats_per_topic)\n",
    "* [Topic statistics per blog or profile](#stats_per_blog)\n",
    "* [Data table for corpus / subcorpus / blog or profile](#data)"
   ]
  },
  {
   "cell_type": "code",
   "execution_count": 13,
   "metadata": {
    "extensions": {
     "jupyter_dashboards": {
      "version": 1,
      "views": {
       "grid_default": {},
       "report_default": {
        "hidden": false
       }
      }
     }
    }
   },
   "outputs": [
    {
     "name": "stdout",
     "output_type": "stream",
     "text": [
      "Loading topics-1.json\n"
     ]
    },
    {
     "ename": "ValueError",
     "evalue": "Expected object or value",
     "output_type": "error",
     "traceback": [
      "\u001b[0;31m---------------------------------------------------------------------------\u001b[0m",
      "\u001b[0;31mValueError\u001b[0m                                Traceback (most recent call last)",
      "\u001b[0;32m<ipython-input-13-ad99ea47a3ec>\u001b[0m in \u001b[0;36m<module>\u001b[0;34m\u001b[0m\n\u001b[1;32m     39\u001b[0m \u001b[0mprint\u001b[0m\u001b[0;34m(\u001b[0m\u001b[0;34m\"Loading\"\u001b[0m\u001b[0;34m,\u001b[0m \u001b[0mfile_name\u001b[0m\u001b[0;34m)\u001b[0m\u001b[0;34m\u001b[0m\u001b[0;34m\u001b[0m\u001b[0m\n\u001b[1;32m     40\u001b[0m \u001b[0;34m\u001b[0m\u001b[0m\n\u001b[0;32m---> 41\u001b[0;31m \u001b[0mtable\u001b[0m \u001b[0;34m=\u001b[0m \u001b[0mpd\u001b[0m\u001b[0;34m.\u001b[0m\u001b[0mread_json\u001b[0m\u001b[0;34m(\u001b[0m\u001b[0mos\u001b[0m\u001b[0;34m.\u001b[0m\u001b[0mpath\u001b[0m\u001b[0;34m.\u001b[0m\u001b[0mjoin\u001b[0m\u001b[0;34m(\u001b[0m\u001b[0mresult_path\u001b[0m\u001b[0;34m,\u001b[0m \u001b[0mfile_name\u001b[0m\u001b[0;34m)\u001b[0m\u001b[0;34m,\u001b[0m \u001b[0morient\u001b[0m\u001b[0;34m=\u001b[0m\u001b[0;34m'split'\u001b[0m\u001b[0;34m)\u001b[0m\u001b[0;34m\u001b[0m\u001b[0;34m\u001b[0m\u001b[0m\n\u001b[0m\u001b[1;32m     42\u001b[0m \u001b[0;34m\u001b[0m\u001b[0m\n\u001b[1;32m     43\u001b[0m \u001b[0;32mdef\u001b[0m \u001b[0mpercent\u001b[0m\u001b[0;34m(\u001b[0m\u001b[0mx\u001b[0m\u001b[0;34m,\u001b[0m \u001b[0mpos\u001b[0m\u001b[0;34m)\u001b[0m\u001b[0;34m:\u001b[0m\u001b[0;34m\u001b[0m\u001b[0;34m\u001b[0m\u001b[0m\n",
      "\u001b[0;32m~/working/russian-blogs/lib64/python3.9/site-packages/pandas/util/_decorators.py\u001b[0m in \u001b[0;36mwrapper\u001b[0;34m(*args, **kwargs)\u001b[0m\n\u001b[1;32m    197\u001b[0m                 \u001b[0;32melse\u001b[0m\u001b[0;34m:\u001b[0m\u001b[0;34m\u001b[0m\u001b[0;34m\u001b[0m\u001b[0m\n\u001b[1;32m    198\u001b[0m                     \u001b[0mkwargs\u001b[0m\u001b[0;34m[\u001b[0m\u001b[0mnew_arg_name\u001b[0m\u001b[0;34m]\u001b[0m \u001b[0;34m=\u001b[0m \u001b[0mnew_arg_value\u001b[0m\u001b[0;34m\u001b[0m\u001b[0;34m\u001b[0m\u001b[0m\n\u001b[0;32m--> 199\u001b[0;31m             \u001b[0;32mreturn\u001b[0m \u001b[0mfunc\u001b[0m\u001b[0;34m(\u001b[0m\u001b[0;34m*\u001b[0m\u001b[0margs\u001b[0m\u001b[0;34m,\u001b[0m \u001b[0;34m**\u001b[0m\u001b[0mkwargs\u001b[0m\u001b[0;34m)\u001b[0m\u001b[0;34m\u001b[0m\u001b[0;34m\u001b[0m\u001b[0m\n\u001b[0m\u001b[1;32m    200\u001b[0m \u001b[0;34m\u001b[0m\u001b[0m\n\u001b[1;32m    201\u001b[0m         \u001b[0;32mreturn\u001b[0m \u001b[0mcast\u001b[0m\u001b[0;34m(\u001b[0m\u001b[0mF\u001b[0m\u001b[0;34m,\u001b[0m \u001b[0mwrapper\u001b[0m\u001b[0;34m)\u001b[0m\u001b[0;34m\u001b[0m\u001b[0;34m\u001b[0m\u001b[0m\n",
      "\u001b[0;32m~/working/russian-blogs/lib64/python3.9/site-packages/pandas/util/_decorators.py\u001b[0m in \u001b[0;36mwrapper\u001b[0;34m(*args, **kwargs)\u001b[0m\n\u001b[1;32m    294\u001b[0m                 )\n\u001b[1;32m    295\u001b[0m                 \u001b[0mwarnings\u001b[0m\u001b[0;34m.\u001b[0m\u001b[0mwarn\u001b[0m\u001b[0;34m(\u001b[0m\u001b[0mmsg\u001b[0m\u001b[0;34m,\u001b[0m \u001b[0mFutureWarning\u001b[0m\u001b[0;34m,\u001b[0m \u001b[0mstacklevel\u001b[0m\u001b[0;34m=\u001b[0m\u001b[0mstacklevel\u001b[0m\u001b[0;34m)\u001b[0m\u001b[0;34m\u001b[0m\u001b[0;34m\u001b[0m\u001b[0m\n\u001b[0;32m--> 296\u001b[0;31m             \u001b[0;32mreturn\u001b[0m \u001b[0mfunc\u001b[0m\u001b[0;34m(\u001b[0m\u001b[0;34m*\u001b[0m\u001b[0margs\u001b[0m\u001b[0;34m,\u001b[0m \u001b[0;34m**\u001b[0m\u001b[0mkwargs\u001b[0m\u001b[0;34m)\u001b[0m\u001b[0;34m\u001b[0m\u001b[0;34m\u001b[0m\u001b[0m\n\u001b[0m\u001b[1;32m    297\u001b[0m \u001b[0;34m\u001b[0m\u001b[0m\n\u001b[1;32m    298\u001b[0m         \u001b[0;32mreturn\u001b[0m \u001b[0mwrapper\u001b[0m\u001b[0;34m\u001b[0m\u001b[0;34m\u001b[0m\u001b[0m\n",
      "\u001b[0;32m~/working/russian-blogs/lib64/python3.9/site-packages/pandas/io/json/_json.py\u001b[0m in \u001b[0;36mread_json\u001b[0;34m(path_or_buf, orient, typ, dtype, convert_axes, convert_dates, keep_default_dates, numpy, precise_float, date_unit, encoding, lines, chunksize, compression, nrows)\u001b[0m\n\u001b[1;32m    616\u001b[0m         \u001b[0;32mreturn\u001b[0m \u001b[0mjson_reader\u001b[0m\u001b[0;34m\u001b[0m\u001b[0;34m\u001b[0m\u001b[0m\n\u001b[1;32m    617\u001b[0m \u001b[0;34m\u001b[0m\u001b[0m\n\u001b[0;32m--> 618\u001b[0;31m     \u001b[0mresult\u001b[0m \u001b[0;34m=\u001b[0m \u001b[0mjson_reader\u001b[0m\u001b[0;34m.\u001b[0m\u001b[0mread\u001b[0m\u001b[0;34m(\u001b[0m\u001b[0;34m)\u001b[0m\u001b[0;34m\u001b[0m\u001b[0;34m\u001b[0m\u001b[0m\n\u001b[0m\u001b[1;32m    619\u001b[0m     \u001b[0;32mif\u001b[0m \u001b[0mshould_close\u001b[0m\u001b[0;34m:\u001b[0m\u001b[0;34m\u001b[0m\u001b[0;34m\u001b[0m\u001b[0m\n\u001b[1;32m    620\u001b[0m         \u001b[0mfilepath_or_buffer\u001b[0m\u001b[0;34m.\u001b[0m\u001b[0mclose\u001b[0m\u001b[0;34m(\u001b[0m\u001b[0;34m)\u001b[0m\u001b[0;34m\u001b[0m\u001b[0;34m\u001b[0m\u001b[0m\n",
      "\u001b[0;32m~/working/russian-blogs/lib64/python3.9/site-packages/pandas/io/json/_json.py\u001b[0m in \u001b[0;36mread\u001b[0;34m(self)\u001b[0m\n\u001b[1;32m    753\u001b[0m                 \u001b[0mobj\u001b[0m \u001b[0;34m=\u001b[0m \u001b[0mself\u001b[0m\u001b[0;34m.\u001b[0m\u001b[0m_get_object_parser\u001b[0m\u001b[0;34m(\u001b[0m\u001b[0mself\u001b[0m\u001b[0;34m.\u001b[0m\u001b[0m_combine_lines\u001b[0m\u001b[0;34m(\u001b[0m\u001b[0mdata\u001b[0m\u001b[0;34m)\u001b[0m\u001b[0;34m)\u001b[0m\u001b[0;34m\u001b[0m\u001b[0;34m\u001b[0m\u001b[0m\n\u001b[1;32m    754\u001b[0m         \u001b[0;32melse\u001b[0m\u001b[0;34m:\u001b[0m\u001b[0;34m\u001b[0m\u001b[0;34m\u001b[0m\u001b[0m\n\u001b[0;32m--> 755\u001b[0;31m             \u001b[0mobj\u001b[0m \u001b[0;34m=\u001b[0m \u001b[0mself\u001b[0m\u001b[0;34m.\u001b[0m\u001b[0m_get_object_parser\u001b[0m\u001b[0;34m(\u001b[0m\u001b[0mself\u001b[0m\u001b[0;34m.\u001b[0m\u001b[0mdata\u001b[0m\u001b[0;34m)\u001b[0m\u001b[0;34m\u001b[0m\u001b[0;34m\u001b[0m\u001b[0m\n\u001b[0m\u001b[1;32m    756\u001b[0m         \u001b[0mself\u001b[0m\u001b[0;34m.\u001b[0m\u001b[0mclose\u001b[0m\u001b[0;34m(\u001b[0m\u001b[0;34m)\u001b[0m\u001b[0;34m\u001b[0m\u001b[0;34m\u001b[0m\u001b[0m\n\u001b[1;32m    757\u001b[0m         \u001b[0;32mreturn\u001b[0m \u001b[0mobj\u001b[0m\u001b[0;34m\u001b[0m\u001b[0;34m\u001b[0m\u001b[0m\n",
      "\u001b[0;32m~/working/russian-blogs/lib64/python3.9/site-packages/pandas/io/json/_json.py\u001b[0m in \u001b[0;36m_get_object_parser\u001b[0;34m(self, json)\u001b[0m\n\u001b[1;32m    775\u001b[0m         \u001b[0mobj\u001b[0m \u001b[0;34m=\u001b[0m \u001b[0;32mNone\u001b[0m\u001b[0;34m\u001b[0m\u001b[0;34m\u001b[0m\u001b[0m\n\u001b[1;32m    776\u001b[0m         \u001b[0;32mif\u001b[0m \u001b[0mtyp\u001b[0m \u001b[0;34m==\u001b[0m \u001b[0;34m\"frame\"\u001b[0m\u001b[0;34m:\u001b[0m\u001b[0;34m\u001b[0m\u001b[0;34m\u001b[0m\u001b[0m\n\u001b[0;32m--> 777\u001b[0;31m             \u001b[0mobj\u001b[0m \u001b[0;34m=\u001b[0m \u001b[0mFrameParser\u001b[0m\u001b[0;34m(\u001b[0m\u001b[0mjson\u001b[0m\u001b[0;34m,\u001b[0m \u001b[0;34m**\u001b[0m\u001b[0mkwargs\u001b[0m\u001b[0;34m)\u001b[0m\u001b[0;34m.\u001b[0m\u001b[0mparse\u001b[0m\u001b[0;34m(\u001b[0m\u001b[0;34m)\u001b[0m\u001b[0;34m\u001b[0m\u001b[0;34m\u001b[0m\u001b[0m\n\u001b[0m\u001b[1;32m    778\u001b[0m \u001b[0;34m\u001b[0m\u001b[0m\n\u001b[1;32m    779\u001b[0m         \u001b[0;32mif\u001b[0m \u001b[0mtyp\u001b[0m \u001b[0;34m==\u001b[0m \u001b[0;34m\"series\"\u001b[0m \u001b[0;32mor\u001b[0m \u001b[0mobj\u001b[0m \u001b[0;32mis\u001b[0m \u001b[0;32mNone\u001b[0m\u001b[0;34m:\u001b[0m\u001b[0;34m\u001b[0m\u001b[0;34m\u001b[0m\u001b[0m\n",
      "\u001b[0;32m~/working/russian-blogs/lib64/python3.9/site-packages/pandas/io/json/_json.py\u001b[0m in \u001b[0;36mparse\u001b[0;34m(self)\u001b[0m\n\u001b[1;32m    884\u001b[0m \u001b[0;34m\u001b[0m\u001b[0m\n\u001b[1;32m    885\u001b[0m         \u001b[0;32melse\u001b[0m\u001b[0;34m:\u001b[0m\u001b[0;34m\u001b[0m\u001b[0;34m\u001b[0m\u001b[0m\n\u001b[0;32m--> 886\u001b[0;31m             \u001b[0mself\u001b[0m\u001b[0;34m.\u001b[0m\u001b[0m_parse_no_numpy\u001b[0m\u001b[0;34m(\u001b[0m\u001b[0;34m)\u001b[0m\u001b[0;34m\u001b[0m\u001b[0;34m\u001b[0m\u001b[0m\n\u001b[0m\u001b[1;32m    887\u001b[0m \u001b[0;34m\u001b[0m\u001b[0m\n\u001b[1;32m    888\u001b[0m         \u001b[0;32mif\u001b[0m \u001b[0mself\u001b[0m\u001b[0;34m.\u001b[0m\u001b[0mobj\u001b[0m \u001b[0;32mis\u001b[0m \u001b[0;32mNone\u001b[0m\u001b[0;34m:\u001b[0m\u001b[0;34m\u001b[0m\u001b[0;34m\u001b[0m\u001b[0m\n",
      "\u001b[0;32m~/working/russian-blogs/lib64/python3.9/site-packages/pandas/io/json/_json.py\u001b[0m in \u001b[0;36m_parse_no_numpy\u001b[0;34m(self)\u001b[0m\n\u001b[1;32m   1122\u001b[0m             decoded = {\n\u001b[1;32m   1123\u001b[0m                 \u001b[0mstr\u001b[0m\u001b[0;34m(\u001b[0m\u001b[0mk\u001b[0m\u001b[0;34m)\u001b[0m\u001b[0;34m:\u001b[0m \u001b[0mv\u001b[0m\u001b[0;34m\u001b[0m\u001b[0;34m\u001b[0m\u001b[0m\n\u001b[0;32m-> 1124\u001b[0;31m                 \u001b[0;32mfor\u001b[0m \u001b[0mk\u001b[0m\u001b[0;34m,\u001b[0m \u001b[0mv\u001b[0m \u001b[0;32min\u001b[0m \u001b[0mloads\u001b[0m\u001b[0;34m(\u001b[0m\u001b[0mjson\u001b[0m\u001b[0;34m,\u001b[0m \u001b[0mprecise_float\u001b[0m\u001b[0;34m=\u001b[0m\u001b[0mself\u001b[0m\u001b[0;34m.\u001b[0m\u001b[0mprecise_float\u001b[0m\u001b[0;34m)\u001b[0m\u001b[0;34m.\u001b[0m\u001b[0mitems\u001b[0m\u001b[0;34m(\u001b[0m\u001b[0;34m)\u001b[0m\u001b[0;34m\u001b[0m\u001b[0;34m\u001b[0m\u001b[0m\n\u001b[0m\u001b[1;32m   1125\u001b[0m             }\n\u001b[1;32m   1126\u001b[0m             \u001b[0mself\u001b[0m\u001b[0;34m.\u001b[0m\u001b[0mcheck_keys_split\u001b[0m\u001b[0;34m(\u001b[0m\u001b[0mdecoded\u001b[0m\u001b[0;34m)\u001b[0m\u001b[0;34m\u001b[0m\u001b[0;34m\u001b[0m\u001b[0m\n",
      "\u001b[0;31mValueError\u001b[0m: Expected object or value"
     ]
    }
   ],
   "source": [
    "import pandas as pd\n",
    "import numpy as np\n",
    "from IPython.core.pylabtools import figsize\n",
    "from sklearn.manifold import Isomap\n",
    "import seaborn\n",
    "import matplotlib\n",
    "import matplotlib.pyplot as plt\n",
    "from matplotlib.ticker import FuncFormatter\n",
    "import qgrid\n",
    "import warnings\n",
    "warnings.filterwarnings('ignore')\n",
    "from ipywidgets import interact, interactive, fixed, interact_manual\n",
    "from IPython.display import clear_output, display\n",
    "import ipywidgets as widgets\n",
    "from sklearn.cluster import KMeans\n",
    "from scipy.spatial.distance import cdist, pdist, squareform\n",
    "import scripts.spin as sp\n",
    "from sklearn.metrics import silhouette_score\n",
    "from gensim import corpora, models\n",
    "import os\n",
    "from operator import itemgetter\n",
    "import datetime as dt\n",
    "\n",
    "figsize(15, 10)\n",
    "\n",
    "result_path = \"results_alpenwort_noun\"\n",
    "file_name = \"topics-1\"\n",
    "\n",
    "number = 0\n",
    "for f in os.listdir(result_path):\n",
    "    try:\n",
    "        number = max(number, int(f.split(file_name+\"-\")[1].split(\".json\")[0]))\n",
    "    except IndexError:\n",
    "        continue\n",
    "if number > 0:\n",
    "    file_name = file_name + \"-\" + str(number)+\".json\"\n",
    "else:\n",
    "    file_name = file_name + \".json\"\n",
    "print(\"Loading\", file_name)\n",
    "    \n",
    "table = pd.read_json(os.path.join(result_path, file_name), orient='split')\n",
    "\n",
    "def percent(x, pos):\n",
    "    return str(int(x * 100)) + \"%\"\n",
    "\n",
    "formatter = FuncFormatter(percent)\n",
    "\n",
    "def corpus_stats(Subcorpus):\n",
    "    sub = table.loc[table['group'].str.contains(Subcorpus)]\n",
    "    # get top topics\n",
    "    weighted = sub['words'] / sub['words'].sum()\n",
    "    sub2 = sub.copy()\n",
    "    sub2[sub2.columns[5:]] = sub2[sub2.columns[5:]].multiply(weighted, axis='index')\n",
    "    top_topics = sub2[sub2.columns[4:]].sum()\n",
    "    new_index = ['url', 'date']\n",
    "    for idx in top_topics.index:\n",
    "        new_index.append(idx)\n",
    "    sub = sub[new_index]\n",
    "    return sub, top_topics\n",
    "    \n",
    "def topic_stats(Topics):\n",
    "    topic_stats = table.copy()\n",
    "    topic_stats['date'] = pd.to_datetime(topic_stats['date'], errors=\"coerce\", utc=True)\n",
    "    topic_stats.index = pd.DatetimeIndex(topic_stats.date)\n",
    "    weighted = topic_stats['words'] / topic_stats['words'].sum()\n",
    "    topic_stats[topic_stats.columns[5:]] = topic_stats[topic_stats.columns[5:]].multiply(weighted, axis='index')\n",
    "    \n",
    "    # reduce to topics\n",
    "    for Topic in Topics:\n",
    "        topic_stats[(topic_stats.index.year>1800)][Topic].resample('M').sum().plot(kind='line', label=Topic)\n",
    "    plt.legend(loc='best')\n",
    "    plt.show()\n",
    "    \n",
    "def plot(data, title=\"Isomap\", clrs=None, max_val=0, words=None, labels=None, huep=False):\n",
    "    if clrs is None:\n",
    "        clrs = [0]*len(data)\n",
    "    if labels is None:\n",
    "        labels = [\"\"]*len(data)\n",
    "    if words is None:\n",
    "        words = [250]*len(data)   \n",
    "    fig = plt.figure()\n",
    "    ax1 = fig.add_subplot(111)\n",
    "    matplotlib.rcParams.update({'font.size': 12})\n",
    "    plt.title(title)\n",
    "    # plt.xlim(-0.3, 0.3)\n",
    "    # plt.ylim(-0.2, 0.2)\n",
    "    ax1.tick_params(axis='both', which='both', bottom='off', top='off', left='off', right='off')\n",
    "    scatter = ax1.scatter(data.T[0], data.T[1], marker='o', s=words, c=clrs,\n",
    "                          vmin=0, vmax=max_val, cmap=matplotlib.cm.get_cmap('coolwarm'))\n",
    "    for counter in range(len(data)):\n",
    "        label_scale = words[counter]/(70*2500)\n",
    "        plt.annotate(labels[counter].split(\":\")[-1], xy=(data[counter][0]+label_scale, data[counter][1]+label_scale))\n",
    "    plt.tight_layout()\n",
    "    if huep:\n",
    "        plt.colorbar(scatter, format=formatter)\n",
    "    plt.show()\n",
    "\n",
    "# create statistics per blog\n",
    "names = table['group'].drop_duplicates()\n",
    "series = []\n",
    "for name in names:\n",
    "    sub, top_topics = corpus_stats(name)\n",
    "    series.append(top_topics)\n",
    "stats_per_blog = pd.concat(series, axis=1).transpose()\n",
    "stats_per_blog.index = names\n",
    "\n",
    "names = ['', 'everyday', 'literary', 'political']\n",
    "names.extend(pd.DataFrame({'count': table.groupby([\"group\"]).size()}).reset_index()['group'])\n",
    "\n",
    "# prepare matrix for isomap / distance matrix\n",
    "topics_per_blog = stats_per_blog.copy()\n",
    "del topics_per_blog['words']\n",
    "matrix = topics_per_blog.values"
   ]
  },
  {
   "cell_type": "markdown",
   "metadata": {},
   "source": [
    "## Estimate number of clusters<a id='clusters'></a>\n",
    "\n",
    "Create an elbow plot to estimate a sane number of clusters for the corpus.\n",
    "\n",
    "[Back to top](#top)"
   ]
  },
  {
   "cell_type": "code",
   "execution_count": 2,
   "metadata": {},
   "outputs": [
    {
     "data": {
      "image/png": "[encoded data removed]",
      "text/plain": [
       "<Figure size 1080x720 with 1 Axes>"
      ]
     },
     "metadata": {
      "needs_background": "light"
     },
     "output_type": "display_data"
    }
   ],
   "source": [
    "K = range(1,11)\n",
    "KM = [KMeans(n_clusters=k).fit(matrix) for k in K]\n",
    "centroids = [k.cluster_centers_ for k in KM]\n",
    "\n",
    "D_k = [cdist(matrix, cent, 'euclidean') for cent in centroids]\n",
    "dist = [np.min(D,axis=1) for D in D_k]\n",
    "avgWithinSS = [sum(d)/matrix.shape[0] for d in dist]\n",
    "\n",
    "# elbow curve\n",
    "fig = plt.figure()\n",
    "ax = fig.add_subplot(111)\n",
    "ax.plot(K, avgWithinSS, 'b*-', color='r')\n",
    "plt.xlabel('Number of Clusters')\n",
    "plt.ylabel(u'Within Sum of Squares')\n",
    "plt.show()\n"
   ]
  },
  {
   "cell_type": "markdown",
   "metadata": {
    "extensions": {
     "jupyter_dashboards": {
      "version": 1,
      "views": {
       "grid_default": {},
       "report_default": {
        "hidden": false
       }
      }
     }
    }
   },
   "source": [
    "## Corpus overview using Isomap<a id='map'></a>\n",
    "\n",
    "In this plot the 37 blogs and social media profiles are represented by their topic distribution. The Isomap algorithm is used to create a two-dimensional map of this high-dimensional topic space. Each dot represents a blog/profile; dots close to each other have a similar topic distribution. Colors indicate groups suggested by K-means clustering.\n",
    "\n",
    "[Back to top](#top)"
   ]
  },
  {
   "cell_type": "code",
   "execution_count": 3,
   "metadata": {
    "extensions": {
     "jupyter_dashboards": {
      "version": 1,
      "views": {
       "grid_default": {
        "hidden": true
       },
       "report_default": {
        "hidden": false
       }
      }
     }
    },
    "scrolled": false,
    "slideshow": {
     "slide_type": "-"
    }
   },
   "outputs": [
    {
     "data": {
      "application/vnd.jupyter.widget-view+json": {
       "model_id": "9b09bbaf75e647d992e2ddaca683180d",
       "version_major": 2,
       "version_minor": 0
      },
      "text/plain": [
       "interactive(children=(Dropdown(description='Clusters', index=2, options=(2, 3, 4, 5, 6, 7, 8, 9), value=4), Ou…"
      ]
     },
     "metadata": {},
     "output_type": "display_data"
    }
   ],
   "source": [
    "def plot_corpus(Clusters=4):\n",
    "    # cluster blogs\n",
    "    km = KMeans(n_clusters=Clusters, random_state=5)\n",
    "    clusters = km.fit_predict(matrix)\n",
    "    print(\"Silhouette score:\", silhouette_score(matrix, clusters))\n",
    "\n",
    "    # plot corpus map using Isomap\n",
    "    imap = Isomap()\n",
    "    corpus_map = imap.fit_transform(matrix)\n",
    "    figsize (13, 10)\n",
    "    plot(corpus_map, \"Corpus Map\", labels=table['group'].drop_duplicates().values, clrs=clusters, max_val=Clusters)\n",
    "    figsize (15, 10)\n",
    "\n",
    "interact(plot_corpus, Clusters=range(2,10), );"
   ]
  },
  {
   "cell_type": "markdown",
   "metadata": {
    "extensions": {
     "jupyter_dashboards": {
      "version": 1,
      "views": {
       "grid_default": {},
       "report_default": {
        "hidden": false
       }
      }
     }
    }
   },
   "source": [
    "## Plot distance matrix\n",
    "\n",
    "Create a distance matrix showing distances between different blogs or social media profiles.\n",
    "\n",
    "[Back to top](#top)"
   ]
  },
  {
   "cell_type": "code",
   "execution_count": 4,
   "metadata": {
    "extensions": {
     "jupyter_dashboards": {
      "version": 1,
      "views": {
       "grid_default": {},
       "report_default": {
        "hidden": false
       }
      }
     }
    }
   },
   "outputs": [
    {
     "data": {
      "image/png": "[encoded data removed]",
      "text/plain": [
       "<Figure size 1080x720 with 2 Axes>"
      ]
     },
     "metadata": {},
     "output_type": "display_data"
    }
   ],
   "source": [
    "distances = pdist(topics_per_blog.values, metric='euclidean')\n",
    "dist_matrix = squareform(distances)\n",
    "\n",
    "#sort blogs with SPIN\n",
    "order = np.array(range(len(dist_matrix[0])))\n",
    "new_distances, new_order = sp.spin(dist_matrix, order)\n",
    "\n",
    "# re-sort ids according to spin\n",
    "new_ids = []\n",
    "for index in new_order:\n",
    "    new_ids.append(stats_per_blog.index[index].split(\":\")[-1])\n",
    "\n",
    "dist_matrix = pd.DataFrame(new_distances)\n",
    "dist_matrix.columns = new_ids\n",
    "dist_matrix.index = new_ids\n",
    "\n",
    "mask = np.zeros_like(new_distances)\n",
    "mask[np.triu_indices_from(mask)] = True\n",
    "seaborn.set_context(\"notebook\", font_scale=0.9)\n",
    "with seaborn.axes_style(\"white\"):\n",
    "    ax = seaborn.heatmap(dist_matrix, mask=mask, square=True, annot=False, fmt='.2f')\n",
    "plt.yticks(rotation=0) \n",
    "plt.xticks(rotation=90) \n",
    "plt.show()\n",
    "figsize (15, 10)"
   ]
  },
  {
   "cell_type": "markdown",
   "metadata": {
    "extensions": {
     "jupyter_dashboards": {
      "version": 1,
      "views": {
       "grid_default": {
        "col": 0,
        "height": 4,
        "hidden": false,
        "row": 5,
        "width": 4
       },
       "report_default": {
        "hidden": false
       }
      }
     }
    }
   },
   "source": [
    "## Plot topic bubbles<a id='topic_bubbles'></a>\n",
    "\n",
    "Again, the Isomap algorithm is used to create a map of the corpus. Use the dropdown box to select a topic; colors indicate intensity of topic, bubble size is total number of words in a blog/profile.\n",
    "\n",
    "[Back to top](#top)"
   ]
  },
  {
   "cell_type": "code",
   "execution_count": 5,
   "metadata": {
    "extensions": {
     "jupyter_dashboards": {
      "version": 1,
      "views": {
       "grid_default": {
        "col": 4,
        "height": 2,
        "hidden": false,
        "row": 5,
        "width": 4
       },
       "report_default": {
        "hidden": false
       }
      }
     }
    }
   },
   "outputs": [
    {
     "data": {
      "application/vnd.jupyter.widget-view+json": {
       "model_id": "209816fe32f4498a81a57c3aeac6bf92",
       "version_major": 2,
       "version_minor": 0
      },
      "text/plain": [
       "interactive(children=(Dropdown(description='Topic', index=41, options=(('0', 0), ('1', 1), ('2', 2), ('3', 3),…"
      ]
     },
     "metadata": {},
     "output_type": "display_data"
    }
   ],
   "source": [
    "words = stats_per_blog['words']\n",
    "copy = stats_per_blog.copy()\n",
    "del copy['words']\n",
    "matrix = copy.values\n",
    "\n",
    "# scale dots with blog size\n",
    "max_words = max(words)\n",
    "num = 0\n",
    "while(num < len(words)):\n",
    "    words[num] = 2500*words[num]/max_words\n",
    "    num += 1\n",
    "    \n",
    "def create_bubbles(Topic=41):\n",
    "    # Isomap\n",
    "    imap = Isomap()\n",
    "    X = imap.fit_transform(matrix)\n",
    "    plot(X, list(copy)[Topic], matrix[:, Topic], max(matrix[:, Topic]), words, huep=True)\n",
    "    \n",
    "box = {}\n",
    "counter = 0\n",
    "for label in list(table)[5:]:\n",
    "    box[label] = counter\n",
    "    counter += 1\n",
    "box = sorted(box.items(), key=lambda x: x[1])\n",
    "    \n",
    "interact(create_bubbles, Topic=box);"
   ]
  },
  {
   "cell_type": "markdown",
   "metadata": {},
   "source": [
    "## Print topics<a id='print_topics'></a>\n",
    "\n",
    "Print the ten most typicals words for each topic.\n",
    "\n",
    "[Back to top](#top)"
   ]
  },
  {
   "cell_type": "code",
   "execution_count": 6,
   "metadata": {
    "scrolled": false
   },
   "outputs": [
    {
     "name": "stdout",
     "output_type": "stream",
     "text": [
      "0 :\n",
      " 0.008*\"Windacher\" + 0.004*\"sog.\" + 0.004*\"Lunzer\" + 0.004*\"parallel\" + 0.004*\"steirischen\" + 0.003*\"Biologischen\" + 0.003*\"typische\" + 0.003*\"herrschenden\" + 0.002*\"hügelige\" + 0.002*\"schöne\" + 0.002*\"wesentlich\" + 0.002*\"langgestreckten\" + 0.002*\"flugfähigen\" + 0.002*\"blühende\" + 0.002*\"gestreckter\" + 0.002*\"regelmäßige\" + 0.002*\"Kleinen\" + 0.002*\"bedingt\" + 0.001*\"Ennstaler\" + 0.001*\"freundlichen\" \n",
      "\n",
      "1 :\n",
      " 0.004*\"Berner\" + 0.004*\"östlich\" + 0.003*\"eigenen\" + 0.003*\"französischen\" + 0.002*\"große\" + 0.002*\"nördlich\" + 0.002*\"bestimmten\" + 0.002*\"anderen\" + 0.002*\"mittelmeerischen\" + 0.002*\"maximaler\" + 0.002*\"höher\" + 0.002*\"regenreichen\" + 0.002*\"genannte\" + 0.002*\"ganzen\" + 0.002*\"üblichen\" + 0.002*\"kontinentalen\" + 0.001*\"genannten\" + 0.001*\"gegebenen\" + 0.001*\"erwähnten\" + 0.001*\"scheinbar\" \n",
      "\n",
      "2 :\n",
      " 0.009*\"großen\" + 0.008*\"alpinen\" + 0.007*\"alten\" + 0.007*\"große\" + 0.006*\"anderen\" + 0.006*\"früher\" + 0.006*\"ersten\" + 0.006*\"andere\" + 0.005*\"neue\" + 0.005*\"ganze\" + 0.005*\"ganzen\" + 0.005*\"einzelnen\" + 0.005*\"verschiedenen\" + 0.005*\"neuen\" + 0.005*\"häufig\" + 0.004*\"weit\" + 0.004*\"selten\" + 0.004*\"letzten\" + 0.004*\"später\" + 0.004*\"allgemeinen\" \n",
      "\n",
      "3 :\n",
      " 0.004*\"Zillertaler\" + 0.003*\"Urbar\" + 0.002*\"Zamser\" + 0.002*\"längerem\" + 0.001*\"Schwaige\" + 0.001*\"salzburgische\" + 0.001*\"anschließende\" + 0.001*\"grundherrlicher\" + 0.001*\"erzbischöflichen\" + 0.001*\"volkstümlich\" + 0.001*\"fällige\" + 0.001*\"steilflankige\" + 0.001*\"begehbare\" + 0.001*\"Streng\" + 0.001*\"hiebei\" + 0.001*\"weiblich\" + 0.001*\"gerückten\" + 0.001*\"mehrdeutig\" + 0.001*\"Pramberger\" + 0.001*\"Baiwaren\" \n",
      "\n",
      "4 :\n",
      " 0.011*\"alpinen\" + 0.007*\"alpine\" + 0.006*\"anderen\" + 0.005*\"neue\" + 0.005*\"deutschen\" + 0.005*\"besonderen\" + 0.004*\"wissenschaftlichen\" + 0.004*\"großen\" + 0.003*\"deutsche\" + 0.003*\"einzelnen\" + 0.003*\"ersten\" + 0.003*\"geistige\" + 0.003*\"verschiedenen\" + 0.003*\"besondere\" + 0.003*\"körperlichen\" + 0.003*\"grossen\" + 0.003*\"eigenen\" + 0.003*\"geistigen\" + 0.003*\"wissenschaftliche\" + 0.002*\"menschlichen\" \n",
      "\n",
      "5 :\n",
      " 0.002*\"spätglaziale\" + 0.002*\"letzteiszeitlichen\" + 0.002*\"außeralpiner\" + 0.001*\"Krasser\" + 0.000*\"ersten\" + 0.000*\"großen\" + 0.000*\"weit\" + 0.000*\"erste\" + 0.000*\"letzten\" + 0.000*\"große\" + 0.000*\"hoch\" + 0.000*\"ganze\" + 0.000*\"kleinen\" + 0.000*\"gut\" + 0.000*\"ganzen\" + 0.000*\"anderen\" + 0.000*\"neue\" + 0.000*\"steilen\" + 0.000*\"steile\" + 0.000*\"kleine\" \n",
      "\n",
      "6 :\n",
      " 0.000*\"großen\" + 0.000*\"weit\" + 0.000*\"ersten\" + 0.000*\"letzten\" + 0.000*\"alten\" + 0.000*\"erste\" + 0.000*\"anderen\" + 0.000*\"kleinen\" + 0.000*\"später\" + 0.000*\"hoch\" + 0.000*\"ganze\" + 0.000*\"steile\" + 0.000*\"steilen\" + 0.000*\"große\" + 0.000*\"steil\" + 0.000*\"leicht\" + 0.000*\"tief\" + 0.000*\"ganzen\" + 0.000*\"oberen\" + 0.000*\"früher\" \n",
      "\n",
      "7 :\n",
      " 0.015*\"langobardischen\" + 0.013*\"langobardische\" + 0.006*\"langobardisch\" + 0.004*\"langobardischer\" + 0.003*\"karolingischen\" + 0.003*\"kleinen\" + 0.003*\"9.\" + 0.003*\"figuralen\" + 0.002*\"unmöglich\" + 0.002*\"stark\" + 0.002*\"nachlangobardisch\" + 0.002*\"Trientiner\" + 0.002*\"langobardisches\" + 0.002*\"deutlich\" + 0.002*\"nordische\" + 0.002*\"erwähnten\" + 0.002*\"letzten\" + 0.002*\"westlich\" + 0.002*\"schöne\" + 0.002*\"nachlangobardischen\" \n",
      "\n",
      "8 :\n",
      " 0.010*\"Schweizer\" + 0.008*\"großen\" + 0.007*\"anderen\" + 0.007*\"topographischen\" + 0.006*\"Topographischen\" + 0.005*\"ganzen\" + 0.003*\"sog.\" + 0.003*\"Topographische\" + 0.003*\"deutlich\" + 0.003*\"große\" + 0.003*\"neue\" + 0.002*\"brauner\" + 0.002*\"ersten\" + 0.002*\"Grödner\" + 0.002*\"später\" + 0.002*\"senkrechter\" + 0.002*\"neuen\" + 0.002*\"amtlichen\" + 0.002*\"peruanischen\" + 0.002*\"schöne\" \n",
      "\n",
      "9 :\n",
      " 0.006*\"Straubinger\" + 0.005*\"vorgeschichtlichen\" + 0.004*\"nordalpinen\" + 0.004*\"neue\" + 0.003*\"Deutschen\" + 0.003*\"Kochschen\" + 0.003*\"v.\" + 0.002*\"meteorischer\" + 0.002*\"Turnerscher\" + 0.002*\"meteorischen\" + 0.002*\"inneralpinen\" + 0.002*\"Genfer\" + 0.002*\"Graphischen\" + 0.002*\"kulturelle\" + 0.002*\"anderen\" + 0.002*\"nationalsozialistische\" + 0.002*\"frühbronzezeitlichen\" + 0.002*\"pathetischer\" + 0.002*\"neuen\" + 0.002*\"zwischenstaatliche\" \n",
      "\n",
      "10 :\n",
      " 0.008*\"alpinen\" + 0.004*\"militärgeographischen\" + 0.004*\"alpiner\" + 0.004*\"übrigen\" + 0.004*\"ursprünglich\" + 0.003*\"wissenschaftlichen\" + 0.003*\"erster\" + 0.003*\"ersten\" + 0.003*\"neue\" + 0.002*\"alpine\" + 0.002*\"früher\" + 0.002*\"betreffenden\" + 0.002*\"verschiedenen\" + 0.002*\"leicht\" + 0.002*\"jüngeren\" + 0.002*\"halbe\" + 0.002*\"13.\" + 0.002*\"erwähnten\" + 0.002*\"ganze\" + 0.002*\"zweiten\" \n",
      "\n",
      "11 :\n",
      " 0.053*\"deutschen\" + 0.028*\"deutsche\" + 0.012*\"italienischen\" + 0.011*\"alten\" + 0.010*\"deutscher\" + 0.010*\"13.\" + 0.009*\"später\" + 0.008*\"15.\" + 0.008*\"14.\" + 0.008*\"16.\" + 0.007*\"italienische\" + 0.007*\"deutsch\" + 0.007*\"12.\" + 0.007*\"romanischen\" + 0.006*\"tirolischen\" + 0.006*\"germanischen\" + 0.006*\"anderen\" + 0.006*\"Tiroler\" + 0.006*\"ganzen\" + 0.005*\"südlich\" \n",
      "\n",
      "12 :\n",
      " 0.006*\"frühchristlichen\" + 0.005*\"argentinischen\" + 0.005*\"bergsteigerischen\" + 0.004*\"basilikalen\" + 0.003*\"feuerländischen\" + 0.003*\"Säbner\" + 0.003*\"patagonischen\" + 0.002*\"einschiffige\" + 0.002*\"Säbener\" + 0.002*\"patagonische\" + 0.002*\"ozeanographischen\" + 0.002*\"norwegischer\" + 0.002*\"rechteckiges\" + 0.002*\"granitische\" + 0.002*\"adriatischen\" + 0.001*\"nächste\" + 0.001*\"jährlichen\" + 0.001*\"sichtbar\" + 0.001*\"südlichsten\" + 0.001*\"erreichbar\" \n",
      "\n",
      "13 :\n",
      " 0.008*\"ungefähr\" + 0.003*\"Bozner\" + 0.003*\"tief\" + 0.002*\"lineal\" + 0.002*\"ersten\" + 0.002*\"Ettaler\" + 0.002*\"Grödner\" + 0.002*\"sanften\" + 0.002*\"schöner\" + 0.002*\"anderen\" + 0.002*\"großen\" + 0.002*\"spatelförmigen\" + 0.002*\"zweihäusig\" + 0.002*\"Rittner\" + 0.002*\"nivale\" + 0.002*\"beweglichen\" + 0.002*\"kurze\" + 0.001*\"ganzen\" + 0.001*\"letzten\" + 0.001*\"flach\" \n",
      "\n",
      "14 :\n",
      " 0.000*\"ersten\" + 0.000*\"erste\" + 0.000*\"großen\" + 0.000*\"kleinen\" + 0.000*\"weit\" + 0.000*\"große\" + 0.000*\"letzten\" + 0.000*\"später\" + 0.000*\"ganze\" + 0.000*\"ganzen\" + 0.000*\"anderen\" + 0.000*\"steile\" + 0.000*\"alpinen\" + 0.000*\"alten\" + 0.000*\"kleine\" + 0.000*\"tief\" + 0.000*\"gut\" + 0.000*\"nächsten\" + 0.000*\"deutschen\" + 0.000*\"hohen\" \n",
      "\n",
      "15 :\n",
      " 0.008*\"kleinen\" + 0.007*\"schönen\" + 0.006*\"steilen\" + 0.006*\"schöne\" + 0.006*\"ersten\" + 0.005*\"ganze\" + 0.005*\"steil\" + 0.005*\"gut\" + 0.005*\"ganzen\" + 0.004*\"großen\" + 0.004*\"steile\" + 0.004*\"leicht\" + 0.004*\"tief\" + 0.004*\"höchsten\" + 0.004*\"kleine\" + 0.004*\"südlich\" + 0.004*\"hoch\" + 0.003*\"letzten\" + 0.003*\"stark\" + 0.003*\"weit\" \n",
      "\n",
      "16 :\n",
      " 0.008*\"leicht\" + 0.008*\"ersten\" + 0.006*\"kleinen\" + 0.006*\"steilen\" + 0.006*\"steil\" + 0.006*\"steile\" + 0.005*\"erste\" + 0.005*\"ganzen\" + 0.005*\"weit\" + 0.005*\"oberen\" + 0.005*\"östlich\" + 0.005*\"schwierig\" + 0.005*\"gut\" + 0.005*\"direkt\" + 0.004*\"nördlich\" + 0.004*\"südlich\" + 0.004*\"kleine\" + 0.004*\"westlich\" + 0.004*\"höchsten\" + 0.004*\"hohen\" \n",
      "\n",
      "17 :\n",
      " 0.007*\"Berchtesgadener\" + 0.005*\"Allgäuer\" + 0.004*\"großen\" + 0.004*\"schöne\" + 0.003*\"hohen\" + 0.003*\"alte\" + 0.003*\"schönsten\" + 0.003*\"Bayerischen\" + 0.003*\"Deutschen\" + 0.003*\"letzten\" + 0.003*\"lange\" + 0.003*\"früher\" + 0.003*\"schönen\" + 0.003*\"Nördlichen\" + 0.002*\"andere\" + 0.002*\"große\" + 0.002*\"kleinen\" + 0.002*\"gute\" + 0.002*\"Münchner\" + 0.002*\"südlichen\" \n",
      "\n",
      "18 :\n",
      " 0.012*\"großen\" + 0.010*\"weit\" + 0.009*\"alten\" + 0.007*\"große\" + 0.006*\"heutigen\" + 0.006*\"hoch\" + 0.005*\"stark\" + 0.005*\"oberen\" + 0.005*\"südlich\" + 0.005*\"hohen\" + 0.004*\"nördlichen\" + 0.004*\"alte\" + 0.004*\"breite\" + 0.004*\"kleinen\" + 0.004*\"anderen\" + 0.004*\"kleine\" + 0.004*\"deutlich\" + 0.004*\"tief\" + 0.004*\"südlichen\" + 0.004*\"tiefer\" \n",
      "\n",
      "19 :\n",
      " 0.004*\"rechte\" + 0.004*\"ersten\" + 0.004*\"großen\" + 0.004*\"alte\" + 0.003*\"Bozner\" + 0.003*\"erste\" + 0.003*\"niederösterreichischen\" + 0.003*\"alpinen\" + 0.002*\"Wilden\" + 0.002*\"gespielten\" + 0.002*\"literarischen\" + 0.002*\"letzte\" + 0.002*\"bayerischen\" + 0.002*\"weit\" + 0.002*\"letzten\" + 0.002*\"Kasseler\" + 0.002*\"ganze\" + 0.002*\"Antholzer\" + 0.002*\"schön\" + 0.002*\"16.\" \n",
      "\n",
      "20 :\n",
      " 0.009*\"nördlichen\" + 0.009*\"jüngeren\" + 0.006*\"südlichen\" + 0.004*\"älteren\" + 0.004*\"letzteren\" + 0.004*\"krystallinischen\" + 0.004*\"venetianischen\" + 0.004*\"ganzen\" + 0.004*\"tektonischen\" + 0.004*\"einzelnen\" + 0.004*\"krystallinische\" + 0.004*\"alpinen\" + 0.003*\"mesozoischen\" + 0.003*\"nördliche\" + 0.003*\"tektonische\" + 0.003*\"jüngere\" + 0.003*\"grossen\" + 0.003*\"gerichtete\" + 0.003*\"dinarischen\" + 0.002*\"intensiver\" \n",
      "\n",
      "21 :\n",
      " 0.004*\"betrachteten\" + 0.003*\"angezielten\" + 0.002*\"Loferer\" + 0.001*\"auszumessenden\" + 0.001*\"selbsttätig\" + 0.001*\"Waidringer\" + 0.001*\"morphologisch\" + 0.001*\"räumliche\" + 0.001*\"erwünscht\" + 0.001*\"Fülle\" + 0.001*\"Photogrammetrische\" + 0.001*\"raumbildliche\" + 0.001*\"stereoskopisch\" + 0.001*\"formenrichtige\" + 0.001*\"gezogener\" + 0.001*\"geschmackvolles\" + 0.001*\"gnomonische\" + 0.001*\"gestochen\" + 0.001*\"übrigbleibende\" + 0.001*\"eingetragenen\" \n",
      "\n",
      "22 :\n",
      " 0.000*\"großen\" + 0.000*\"ersten\" + 0.000*\"kleinen\" + 0.000*\"letzten\" + 0.000*\"steilen\" + 0.000*\"erste\" + 0.000*\"ganzen\" + 0.000*\"große\" + 0.000*\"ganze\" + 0.000*\"kleine\" + 0.000*\"weit\" + 0.000*\"leicht\" + 0.000*\"später\" + 0.000*\"gut\" + 0.000*\"tief\" + 0.000*\"hoch\" + 0.000*\"anderen\" + 0.000*\"steile\" + 0.000*\"alten\" + 0.000*\"nächsten\" \n",
      "\n",
      "23 :\n",
      " 0.004*\"weite\" + 0.002*\"Vielfache\" + 0.002*\"sonderlich\" + 0.002*\"dichten\" + 0.002*\"kleine\" + 0.001*\"freundliche\" + 0.001*\"großen\" + 0.001*\"einzige\" + 0.001*\"geringe\" + 0.001*\"feuchten\" + 0.001*\"übrigen\" + 0.001*\"wunderbar\" + 0.001*\"ungünstige\" + 0.001*\"sonnige\" + 0.001*\"feuchte\" + 0.001*\"friedliche\" + 0.001*\"wunderbare\" + 0.001*\"einzelne\" + 0.001*\"fruchtbare\" + 0.001*\"verbreiteten\" \n",
      "\n",
      "24 :\n",
      " 0.003*\"perspektivische\" + 0.002*\"ptolemäisch\" + 0.002*\"aussereuropäischen\" + 0.001*\"entfallenden\" + 0.001*\"Britischen\" + 0.001*\"massgebend\" + 0.001*\"hervorgehobene\" + 0.001*\"anerkennenswerten\" + 0.001*\"häufiges\" + 0.001*\"Indirekt\" + 0.001*\"außergewöhnliches\" + 0.001*\"vernünftigere\" + 0.001*\"unabwendbaren\" + 0.000*\"konventionelle\" + 0.000*\"großen\" + 0.000*\"ersten\" + 0.000*\"hoch\" + 0.000*\"kleinen\" + 0.000*\"weit\" + 0.000*\"große\" \n",
      "\n",
      "25 :\n",
      " 0.001*\"stämmig\" + 0.001*\"authentischer\" + 0.001*\"blutreines\" + 0.001*\"unbelegt\" + 0.001*\"postglazial\" + 0.001*\"reinblütiges\" + 0.001*\"landesherrliche\" + 0.001*\"fremdländischer\" + 0.001*\"unverbürgt\" + 0.001*\"feststellbaren\" + 0.001*\"schneearme\" + 0.001*\"verendeten\" + 0.000*\"Iberischen\" + 0.000*\"ersten\" + 0.000*\"großen\" + 0.000*\"letzten\" + 0.000*\"gut\" + 0.000*\"große\" + 0.000*\"erste\" + 0.000*\"ganzen\" \n",
      "\n",
      "26 :\n",
      " 0.009*\"Karnischen\" + 0.008*\"hoch\" + 0.006*\"steilen\" + 0.005*\"nördlich\" + 0.005*\"großen\" + 0.004*\"weit\" + 0.004*\"breiten\" + 0.004*\"Ulricher\" + 0.003*\"steil\" + 0.003*\"Leoganger\" + 0.003*\"alten\" + 0.003*\"höchsten\" + 0.003*\"grünen\" + 0.003*\"höher\" + 0.003*\"hohe\" + 0.003*\"rasch\" + 0.003*\"große\" + 0.003*\"kleinen\" + 0.003*\"tiefer\" + 0.003*\"ersten\" \n",
      "\n",
      "27 :\n",
      " 0.005*\"hohe\" + 0.004*\"schöne\" + 0.004*\"Großen\" + 0.004*\"letzten\" + 0.003*\"Wölzer\" + 0.003*\"ersten\" + 0.003*\"Rottenmanner\" + 0.003*\"schönen\" + 0.003*\"hohen\" + 0.003*\"heutigen\" + 0.003*\"großen\" + 0.003*\"Niederen\" + 0.003*\"südlich\" + 0.003*\"besten\" + 0.003*\"schön\" + 0.003*\"letzte\" + 0.002*\"herrliche\" + 0.002*\"mühsam\" + 0.002*\"Große\" + 0.002*\"große\" \n",
      "\n",
      "28 :\n",
      " 0.006*\"Lizumer\" + 0.005*\"schöne\" + 0.004*\"weiten\" + 0.003*\"Tuxer\" + 0.003*\"sonnigen\" + 0.003*\"kleine\" + 0.002*\"sonnige\" + 0.002*\"leuchtende\" + 0.002*\"schönen\" + 0.002*\"später\" + 0.002*\"Tarntaler\" + 0.002*\"gleißenden\" + 0.002*\"wundervolle\" + 0.002*\"letzten\" + 0.002*\"ebenen\" + 0.002*\"bergan\" + 0.002*\"endgültig\" + 0.002*\"prächtige\" + 0.002*\"schnell\" + 0.002*\"gut\" \n",
      "\n",
      "29 :\n",
      " 0.005*\"erste\" + 0.005*\"ersten\" + 0.003*\"später\" + 0.003*\"Wiener\" + 0.003*\"alten\" + 0.002*\"gleichen\" + 0.002*\"alpine\" + 0.002*\"letzten\" + 0.002*\"Deutschen\" + 0.002*\"österreichischen\" + 0.002*\"nächsten\" + 0.002*\"29.\" + 0.002*\"neue\" + 0.002*\"18.\" + 0.001*\"photographische\" + 0.001*\"Österreichischen\" + 0.001*\"herrlichen\" + 0.001*\"furchtbaren\" + 0.001*\"27.\" + 0.001*\"Ampezzaner\" \n",
      "\n",
      "30 :\n",
      " 0.007*\"römischen\" + 0.005*\"ersten\" + 0.005*\"alten\" + 0.005*\"antiken\" + 0.004*\"später\" + 0.004*\"rätischen\" + 0.004*\"heutigen\" + 0.004*\"junge\" + 0.003*\"geborene\" + 0.003*\"lacus\" + 0.003*\"heutige\" + 0.003*\"nördlichen\" + 0.003*\"westlichen\" + 0.003*\"Salzburger\" + 0.003*\"weit\" + 0.003*\"mittleren\" + 0.003*\"hohen\" + 0.003*\"zweiten\" + 0.002*\"bekannt\" + 0.002*\"alpinen\" \n",
      "\n",
      "31 :\n",
      " 0.028*\"japanischen\" + 0.008*\"japanische\" + 0.002*\"triefendes\" + 0.002*\"japanischer\" + 0.002*\"schwefelhaltige\" + 0.002*\"dampfende\" + 0.001*\"wochenlangen\" + 0.001*\"wohlbekanntes\" + 0.001*\"sehnenden\" + 0.001*\"hübschesten\" + 0.001*\"tönte\" + 0.000*\"36.\" + 0.000*\"kleinen\" + 0.000*\"nächsten\" + 0.000*\"hoch\" + 0.000*\"großen\" + 0.000*\"ganzen\" + 0.000*\"letzten\" + 0.000*\"steil\" + 0.000*\"steile\" \n",
      "\n",
      "32 :\n",
      " 0.000*\"leicht\" + 0.000*\"großen\" + 0.000*\"weit\" + 0.000*\"ersten\" + 0.000*\"große\" + 0.000*\"anderen\" + 0.000*\"gut\" + 0.000*\"ganze\" + 0.000*\"hoch\" + 0.000*\"ganzen\" + 0.000*\"erste\" + 0.000*\"steile\" + 0.000*\"kleine\" + 0.000*\"kleinen\" + 0.000*\"steil\" + 0.000*\"später\" + 0.000*\"letzten\" + 0.000*\"steilen\" + 0.000*\"rasch\" + 0.000*\"alten\" \n",
      "\n",
      "33 :\n",
      " 0.000*\"ersten\" + 0.000*\"großen\" + 0.000*\"ganze\" + 0.000*\"große\" + 0.000*\"anderen\" + 0.000*\"weit\" + 0.000*\"gut\" + 0.000*\"später\" + 0.000*\"hoch\" + 0.000*\"steilen\" + 0.000*\"kleinen\" + 0.000*\"leicht\" + 0.000*\"letzten\" + 0.000*\"alten\" + 0.000*\"ganzen\" + 0.000*\"erste\" + 0.000*\"kleine\" + 0.000*\"früher\" + 0.000*\"tief\" + 0.000*\"steil\" \n",
      "\n",
      "34 :\n",
      " 0.010*\"großen\" + 0.009*\"große\" + 0.008*\"ersten\" + 0.008*\"Großen\" + 0.006*\"ganzen\" + 0.006*\"hoch\" + 0.005*\"erste\" + 0.005*\"weit\" + 0.004*\"später\" + 0.004*\"Kleinen\" + 0.004*\"leicht\" + 0.004*\"Große\" + 0.004*\"hohen\" + 0.004*\"Hohen\" + 0.004*\"neuen\" + 0.004*\"schwierig\" + 0.003*\"ganze\" + 0.003*\"schwierige\" + 0.003*\"steile\" + 0.003*\"hohe\" \n",
      "\n",
      "35 :\n",
      " 0.008*\"großen\" + 0.008*\"ersten\" + 0.006*\"weit\" + 0.006*\"letzten\" + 0.006*\"gut\" + 0.006*\"nächsten\" + 0.006*\"kleinen\" + 0.006*\"große\" + 0.005*\"hoch\" + 0.005*\"steilen\" + 0.005*\"ganze\" + 0.005*\"später\" + 0.004*\"ganzen\" + 0.004*\"tief\" + 0.004*\"kleine\" + 0.004*\"rasch\" + 0.004*\"erste\" + 0.004*\"anderen\" + 0.004*\"leicht\" + 0.004*\"langsam\" \n",
      "\n",
      "36 :\n",
      " 0.000*\"ersten\" + 0.000*\"großen\" + 0.000*\"gut\" + 0.000*\"weit\" + 0.000*\"hoch\" + 0.000*\"leicht\" + 0.000*\"ganzen\" + 0.000*\"große\" + 0.000*\"letzten\" + 0.000*\"rasch\" + 0.000*\"erste\" + 0.000*\"ganze\" + 0.000*\"anderen\" + 0.000*\"steilen\" + 0.000*\"kleine\" + 0.000*\"tief\" + 0.000*\"alten\" + 0.000*\"neue\" + 0.000*\"östlich\" + 0.000*\"steile\" \n",
      "\n",
      "37 :\n",
      " 0.011*\"Kärntner\" + 0.004*\"nährstoffarmen\" + 0.004*\"nährstoffreichen\" + 0.004*\"stark\" + 0.003*\"urkundlich\" + 0.003*\"heidnischen\" + 0.003*\"hohen\" + 0.003*\"pflanzlichen\" + 0.002*\"größeren\" + 0.002*\"nördlich\" + 0.002*\"besser\" + 0.002*\"Liesertaler\" + 0.002*\"mitteleuropäischen\" + 0.002*\"mediterranen\" + 0.002*\"pflanzliche\" + 0.002*\"thermischen\" + 0.002*\"scharfe\" + 0.002*\"sommerlichen\" + 0.002*\"geographischen\" + 0.002*\"geringe\" \n",
      "\n",
      "38 :\n",
      " 0.013*\"großen\" + 0.008*\"hoch\" + 0.008*\"große\" + 0.006*\"alten\" + 0.006*\"weit\" + 0.006*\"anderen\" + 0.005*\"hohen\" + 0.005*\"ganze\" + 0.004*\"alte\" + 0.004*\"ersten\" + 0.004*\"ganzen\" + 0.004*\"kleinen\" + 0.004*\"neue\" + 0.004*\"letzten\" + 0.004*\"später\" + 0.004*\"hohe\" + 0.003*\"schönen\" + 0.003*\"höchsten\" + 0.003*\"tief\" + 0.003*\"kleine\" \n",
      "\n",
      "39 :\n",
      " 0.006*\"1.\" + 0.006*\"alpinen\" + 0.005*\"großen\" + 0.005*\"letzten\" + 0.004*\"ersten\" + 0.004*\"steilen\" + 0.004*\"hoch\" + 0.004*\"erste\" + 0.003*\"Schladminger\" + 0.003*\"nächsten\" + 0.003*\"später\" + 0.003*\"kleinen\" + 0.003*\"rasch\" + 0.002*\"tiefer\" + 0.002*\"alpine\" + 0.002*\"kleine\" + 0.002*\"leicht\" + 0.002*\"schönen\" + 0.002*\"steil\" + 0.002*\"kurze\" \n",
      "\n",
      "40 :\n",
      " 0.000*\"großen\" + 0.000*\"ganzen\" + 0.000*\"erste\" + 0.000*\"ganze\" + 0.000*\"kleinen\" + 0.000*\"ersten\" + 0.000*\"gut\" + 0.000*\"alten\" + 0.000*\"nächsten\" + 0.000*\"später\" + 0.000*\"weit\" + 0.000*\"hoch\" + 0.000*\"große\" + 0.000*\"leicht\" + 0.000*\"letzten\" + 0.000*\"steilen\" + 0.000*\"anderen\" + 0.000*\"tief\" + 0.000*\"nördlich\" + 0.000*\"steil\" \n",
      "\n",
      "41 :\n",
      " 0.007*\"Großen\" + 0.006*\"Unteren\" + 0.005*\"kleinen\" + 0.005*\"erste\" + 0.005*\"hoch\" + 0.004*\"zweite\" + 0.004*\"ganze\" + 0.004*\"letzten\" + 0.003*\"anderen\" + 0.003*\"dritte\" + 0.003*\"rechte\" + 0.003*\"Plötzlich\" + 0.003*\"grünen\" + 0.003*\"letzte\" + 0.003*\"gebräuchlich\" + 0.003*\"grüne\" + 0.003*\"plötzlich\" + 0.003*\"ganzen\" + 0.003*\"ersten\" + 0.002*\"gleicher\" \n",
      "\n",
      "42 :\n",
      " 0.004*\"meteorologischen\" + 0.003*\"bedeutend\" + 0.003*\"geringer\" + 0.002*\"langjährigen\" + 0.002*\"ungefähr\" + 0.002*\"relative\" + 0.002*\"relativ\" + 0.002*\"durchschnittlich\" + 0.002*\"damaligen\" + 0.002*\"außerordentlich\" + 0.002*\"unangenehm\" + 0.002*\"niedrige\" + 0.002*\"24.\" + 0.002*\"täglichen\" + 0.002*\"Wiener\" + 0.002*\"nördlich\" + 0.002*\"häufigsten\" + 0.002*\"größte\" + 0.001*\"lang\" + 0.001*\"unteren\" \n",
      "\n",
      "43 :\n",
      " 0.012*\"sibirischen\" + 0.009*\"sibirische\" + 0.007*\"baumförmige\" + 0.006*\"bogig\" + 0.005*\"alpinen\" + 0.004*\"baumförmigen\" + 0.004*\"alpine\" + 0.003*\"oberen\" + 0.003*\"kleinen\" + 0.003*\"näher\" + 0.002*\"äußere\" + 0.002*\"äußersten\" + 0.002*\"typische\" + 0.002*\"vereinzelt\" + 0.002*\"hochstämmige\" + 0.002*\"völlig\" + 0.002*\"horizontal\" + 0.002*\"ausnahmslos\" + 0.002*\"verschiedenen\" + 0.002*\"aufrechte\" \n",
      "\n",
      "44 :\n",
      " 0.000*\"hoch\" + 0.000*\"ersten\" + 0.000*\"großen\" + 0.000*\"weit\" + 0.000*\"letzten\" + 0.000*\"leicht\" + 0.000*\"kleinen\" + 0.000*\"steilen\" + 0.000*\"später\" + 0.000*\"erste\" + 0.000*\"große\" + 0.000*\"gut\" + 0.000*\"ganzen\" + 0.000*\"hohen\" + 0.000*\"oberen\" + 0.000*\"ganze\" + 0.000*\"höher\" + 0.000*\"tief\" + 0.000*\"steil\" + 0.000*\"alten\" \n",
      "\n",
      "45 :\n",
      " 0.009*\"erste\" + 0.008*\"ersten\" + 0.006*\"leicht\" + 0.006*\"später\" + 0.005*\"westlich\" + 0.005*\"südlich\" + 0.004*\"höchsten\" + 0.004*\"nördlich\" + 0.004*\"südlichen\" + 0.004*\"kleine\" + 0.004*\"östlich\" + 0.004*\"steilen\" + 0.004*\"kleinen\" + 0.004*\"langen\" + 0.004*\"großen\" + 0.004*\"ganze\" + 0.004*\"steil\" + 0.003*\"breiten\" + 0.003*\"Großen\" + 0.003*\"Hohen\" \n",
      "\n",
      "46 :\n",
      " 0.003*\"christliche\" + 0.003*\"christlichen\" + 0.002*\"heidnischen\" + 0.002*\"schädlicher\" + 0.002*\"christlicher\" + 0.002*\"kirchlicher\" + 0.002*\"geweihte\" + 0.002*\"sog.\" + 0.001*\"Gewittergottes\" + 0.001*\"abergläubischen\" + 0.001*\"aufgehobenen\" + 0.001*\"warnende\" + 0.001*\"mythische\" + 0.001*\"heidnischer\" + 0.001*\"heidnische\" + 0.001*\"höllischen\" + 0.001*\"hilfreichen\" + 0.001*\"allmächtigen\" + 0.001*\"häuslichen\" + 0.001*\"unschädlich\" \n",
      "\n",
      "47 :\n",
      " 0.010*\"steilen\" + 0.009*\"großen\" + 0.008*\"Lienzer\" + 0.008*\"weit\" + 0.007*\"steil\" + 0.007*\"Casseler\" + 0.006*\"hinunter\" + 0.006*\"große\" + 0.006*\"steile\" + 0.005*\"kleinen\" + 0.005*\"letzten\" + 0.005*\"herrlichen\" + 0.005*\"schönen\" + 0.004*\"nächsten\" + 0.004*\"rasch\" + 0.004*\"gut\" + 0.004*\"ganzen\" + 0.004*\"schön\" + 0.004*\"stark\" + 0.004*\"tief\" \n",
      "\n",
      "48 :\n",
      " 0.001*\"apokalyptischer\" + 0.001*\"gezwungene\" + 0.001*\"schlafenden\" + 0.001*\"friedsamen\" + 0.001*\"vielfältiges\" + 0.001*\"verfilzten\" + 0.001*\"keuchender\" + 0.001*\"zerfetzter\" + 0.001*\"überflickte\" + 0.001*\"überladenen\" + 0.001*\"langhaarigen\" + 0.001*\"blauleuchtende\" + 0.001*\"Tagtäglich\" + 0.001*\"strohdürrem\" + 0.001*\"erwachsen\" + 0.001*\"gelbzähnige\" + 0.001*\"schwächen\" + 0.001*\"verstehenden\" + 0.001*\"schlafendem\" + 0.001*\"spinnwebübersponnenen\" \n",
      "\n",
      "49 :\n",
      " 0.010*\"gotischen\" + 0.010*\"Tübinger\" + 0.009*\"15.\" + 0.006*\"romanischen\" + 0.006*\"16.\" + 0.005*\"schöne\" + 0.005*\"ersten\" + 0.005*\"gotische\" + 0.005*\"18.\" + 0.004*\"17.\" + 0.004*\"14.\" + 0.004*\"13.\" + 0.004*\"barocken\" + 0.003*\"reichen\" + 0.003*\"kleinen\" + 0.003*\"künstlerische\" + 0.003*\"schönste\" + 0.003*\"alten\" + 0.003*\"italienische\" + 0.003*\"große\" \n",
      "\n"
     ]
    }
   ],
   "source": [
    "file_name = \"model-1.lda\"\n",
    "model_name = \"model\"\n",
    "\n",
    "number = 0\n",
    "for f in os.listdir(result_path):\n",
    "    try:\n",
    "        number = max(number, int(f.split(model_name+\"-\")[1].split(\".lda\")[0]))\n",
    "    except IndexError:\n",
    "        continue\n",
    "    except ValueError:\n",
    "        continue\n",
    "if number > 0:\n",
    "    file_name = model_name + \"-\" + str(number) + \".lda\"\n",
    "else: \n",
    "    file_name = model_name + \".lda\"\n",
    "\n",
    "# load LDA model and dictionary\n",
    "dictionary = corpora.Dictionary.load(os.path.join(result_path, model_name + \".dict\"))\n",
    "model = models.LdaModel.load(os.path.join(result_path, file_name))\n",
    "    \n",
    "topics = model.show_topics(num_topics=50, num_words=20, log=False, formatted=True)\n",
    "counter = 5\n",
    "for topic in sorted(topics, key=itemgetter(0)):\n",
    "    print (list(table)[counter], \":\\n\", topic[1], \"\\n\")\n",
    "    counter += 1"
   ]
  },
  {
   "cell_type": "markdown",
   "metadata": {
    "extensions": {
     "jupyter_dashboards": {
      "version": 1,
      "views": {
       "grid_default": {
        "col": 8,
        "height": 4,
        "hidden": false,
        "row": 5,
        "width": 4
       },
       "report_default": {
        "hidden": false
       }
      }
     }
    }
   },
   "source": [
    "***\n",
    "## Topic development over time\n",
    "<a id='stats_per_topic'></a>\n",
    "\n",
    "Select topics to view their development over time for the whole corpus. You may select multiple topics with the CTRL key.\n",
    "\n",
    "[Back to top](#top)\n"
   ]
  },
  {
   "cell_type": "code",
   "execution_count": 7,
   "metadata": {
    "extensions": {
     "jupyter_dashboards": {
      "version": 1,
      "views": {
       "grid_default": {
        "col": 0,
        "height": 4,
        "hidden": false,
        "row": 14,
        "width": 4
       },
       "report_default": {
        "hidden": false
       }
      }
     }
    }
   },
   "outputs": [
    {
     "data": {
      "application/vnd.jupyter.widget-view+json": {
       "model_id": "1be8eed9a3d444b99e8f227e49de8265",
       "version_major": 2,
       "version_minor": 0
      },
      "text/plain": [
       "interactive(children=(SelectMultiple(description='Topics', index=(40, 37), options=('0', '1', '2', '3', '4', '…"
      ]
     },
     "metadata": {},
     "output_type": "display_data"
    }
   ],
   "source": [
    "selected = [list(table)[45], list(table)[42]] \n",
    "interact(topic_stats, Topics= widgets.SelectMultiple(options=list(table)[5:], value=selected));"
   ]
  },
  {
   "cell_type": "markdown",
   "metadata": {
    "extensions": {
     "jupyter_dashboards": {
      "version": 1,
      "views": {
       "grid_default": {
        "col": 0,
        "height": 5,
        "hidden": false,
        "row": 9,
        "width": 12
       },
       "report_default": {
        "hidden": false
       }
      }
     }
    }
   },
   "source": [
    "## Top ten topics for a blog / a profile<a id='stats_per_blog'></a>\n",
    "\n",
    "Select a blog/social media profile in the dropdown box. The naming convention is as follows: subcorpus:author:alias, e.g. everyday:goralik:zz_snorapp.\n",
    "\n",
    "[Back to top](#top)\n"
   ]
  },
  {
   "cell_type": "code",
   "execution_count": 8,
   "metadata": {
    "extensions": {
     "jupyter_dashboards": {
      "version": 1,
      "views": {
       "grid_default": {
        "hidden": true
       },
       "report_default": {
        "hidden": false
       }
      }
     }
    },
    "scrolled": false
   },
   "outputs": [
    {
     "data": {
      "application/vnd.jupyter.widget-view+json": {
       "model_id": "b3466364f2e24397a6d1b6c654e44d6c",
       "version_major": 2,
       "version_minor": 0
      },
      "text/plain": [
       "interactive(children=(Dropdown(description='Subcorpus', options=('', 'everyday', 'literary', 'political', 'av_…"
      ]
     },
     "metadata": {},
     "output_type": "display_data"
    }
   ],
   "source": [
    "figsize(10,6)\n",
    "def create_bars(Subcorpus):\n",
    "    sub, top_topics = corpus_stats(Subcorpus)\n",
    "    del top_topics['words']\n",
    "    top_topics.sort_values(ascending=False, inplace=True)\n",
    "    top_topics = top_topics.head(10)\n",
    "    top_topics.plot(kind='bar')\n",
    "    plt.show()\n",
    "\n",
    "interact(create_bars, Subcorpus=names);"
   ]
  },
  {
   "cell_type": "markdown",
   "metadata": {
    "extensions": {
     "jupyter_dashboards": {
      "version": 1,
      "views": {
       "grid_default": {},
       "report_default": {
        "hidden": false
       }
      }
     }
    }
   },
   "source": [
    "## Show data table for corpus / subcorpus / blog or profile<a id='data'></a>\n",
    "Select a blog/social media profile in the dropdown box. The naming convention is as follows: subcorpus:author:alias, e.g. everyday:goralik:zz_snorapp.\n",
    "\n",
    "[Back to top](#top)"
   ]
  },
  {
   "cell_type": "code",
   "execution_count": 9,
   "metadata": {
    "extensions": {
     "jupyter_dashboards": {
      "version": 1,
      "views": {
       "grid_default": {},
       "report_default": {
        "hidden": true
       }
      }
     }
    }
   },
   "outputs": [
    {
     "data": {
      "application/vnd.jupyter.widget-view+json": {
       "model_id": "31fc01d3068e4f309696c72a4f52a7c8",
       "version_major": 2,
       "version_minor": 0
      },
      "text/plain": [
       "QgridWidget(grid_options={'fullWidthRows': True, 'syncColumnCellResize': True, 'forceFitColumns': False, 'defa…"
      ]
     },
     "metadata": {},
     "output_type": "display_data"
    }
   ],
   "source": [
    "qgrid.show_grid(table, grid_options={'fullWidthRows': True, 'explicitInitialisation':True, 'asyncEditorLoading': True, 'enableTextSelectionOnCells': True, 'syncColumnCellResize':True, 'enableColumnReorder':False,'forceFitColumns': False, 'defaultColumnWidth': 80, 'enableCellNavigation': True})"
   ]
  },
  {
   "cell_type": "code",
   "execution_count": null,
   "metadata": {},
   "outputs": [],
   "source": []
  }
 ],
 "metadata": {
  "extensions": {
   "jupyter_dashboards": {
    "activeView": "report_default",
    "version": 1,
    "views": {
     "grid_default": {
      "cellMargin": 10,
      "defaultCellHeight": 20,
      "maxColumns": 12,
      "name": "grid",
      "type": "grid"
     },
     "report_default": {
      "name": "report",
      "type": "report"
     }
    }
   }
  },
  "kernelspec": {
   "display_name": "Python 3",
   "language": "python",
   "name": "python3"
  },
  "language_info": {
   "codemirror_mode": {
    "name": "ipython",
    "version": 3
   },
   "file_extension": ".py",
   "mimetype": "text/x-python",
   "name": "python",
   "nbconvert_exporter": "python",
   "pygments_lexer": "ipython3",
   "version": "3.9.0"
  }
 },
 "nbformat": 4,
 "nbformat_minor": 2
}
